{
 "cells": [
  {
   "cell_type": "code",
   "execution_count": 1,
   "metadata": {},
   "outputs": [],
   "source": [
    "%matplotlib inline\n",
    "import numpy as np\n",
    "import pandas as pd\n",
    "import seaborn as sns\n",
    "import matplotlib.pyplot as plt\n",
    "import matplotlib.ticker as tick\n",
    "from sklearn import linear_model\n",
    "from sklearn import metrics\n",
    "from sklearn.preprocessing import StandardScaler\n",
    "from sklearn.model_selection import KFold "
   ]
  },
  {
   "cell_type": "code",
   "execution_count": 2,
   "metadata": {},
   "outputs": [],
   "source": [
    "df = pd.read_csv(\"./data/measurements.csv\", decimal=',')"
   ]
  },
  {
   "cell_type": "code",
   "execution_count": 3,
   "metadata": {},
   "outputs": [],
   "source": [
    "# ダミー変数\n",
    "df['gas_type'] = pd.get_dummies(df['gas_type'])\n",
    "df['specials'] = pd.get_dummies(df['specials'])\n",
    "# 欠損値を平均で埋める\n",
    "df['temp_inside'] = df['temp_inside'].fillna(df['temp_inside'].mean())\n",
    "# 目的変数と説明変数の設定\n",
    "target = df['consume']\n",
    "data = df.loc[:, ['distance', \"speed\", 'temp_inside' , 'temp_outside', 'gas_type', 'specials', 'AC', 'rain', 'sun']]"
   ]
  },
  {
   "cell_type": "code",
   "execution_count": 4,
   "metadata": {},
   "outputs": [],
   "source": [
    "# 交差検証\n",
    "def cross_validation(data, target, clf, n_split):\n",
    "    cross_valid_mse,cross_valid_rmse, cross_valid_mae = 0,0,0\n",
    "    \n",
    "    for train, test in KFold(n_splits=n_split, shuffle=True, random_state=111).split(data, target):\n",
    "        data_train, target_train = data.iloc[train], target[train]\n",
    "        data_test, target_test = data.iloc[test], target[test]\n",
    "        clf.fit(data_train, target_train)\n",
    "\n",
    "        predicted_target = clf.predict(data_test)\n",
    "        \n",
    "         # 平均二乗誤差 (MSE)\n",
    "        cross_valid_mse += metrics.mean_squared_error(target_test, predicted_target)\n",
    "        # 二乗平均平方根誤差 (RMSE)\n",
    "        cross_valid_rmse += np.sqrt(metrics.mean_squared_error(target_test, predicted_target))\n",
    "        # 平均絶対誤差 (MAE)\n",
    "        cross_valid_mae += metrics.mean_absolute_error(target_test, predicted_target)\n",
    "    mse = cross_valid_mse / n_split\n",
    "    rmse = cross_valid_rmse / n_split\n",
    "    mae = cross_valid_mae / n_split\n",
    "    return {\"MSE\":mse, \"RMSE\":rmse, \"MAE\":mae}"
   ]
  },
  {
   "cell_type": "code",
   "execution_count": 5,
   "metadata": {},
   "outputs": [],
   "source": [
    "clf = linear_model.LinearRegression(fit_intercept=True)"
   ]
  },
  {
   "cell_type": "code",
   "execution_count": 6,
   "metadata": {},
   "outputs": [
    {
     "name": "stdout",
     "output_type": "stream",
     "text": [
      "k=5 {'MSE': 0.9063960130510713, 'RMSE': 0.9460838216793297, 'MAE': 0.640977822161328}\n",
      "k=10 {'MSE': 0.8988125522731384, 'RMSE': 0.9122947265099427, 'MAE': 0.6364269452677899}\n",
      "k=50 {'MSE': 0.8835682729285999, 'RMSE': 0.8321495384147597, 'MAE': 0.6342443148228034}\n",
      "k=100 {'MSE': 0.8848129284926175, 'RMSE': 0.7778682207704496, 'MAE': 0.6359339601213999}\n",
      "k=200 {'MSE': 0.8866898410742773, 'RMSE': 0.7133418317725929, 'MAE': 0.6377328876003883}\n"
     ]
    }
   ],
   "source": [
    "# 手動で精度を検証\n",
    "print(\"k=5\", cross_validation(data, target, clf, 5))\n",
    "print(\"k=10\", cross_validation(data, target, clf, 10))\n",
    "print(\"k=50\", cross_validation(data, target, clf, 50))\n",
    "print(\"k=100\", cross_validation(data, target, clf, 100))\n",
    "print(\"k=200\", cross_validation(data, target, clf, 200))"
   ]
  },
  {
   "cell_type": "code",
   "execution_count": 7,
   "metadata": {},
   "outputs": [
    {
     "name": "stdout",
     "output_type": "stream",
     "text": [
      "{'MSE': 0.8835682729285999, 'RMSE': 0.8321495384147597, 'MAE': 0.6342443148228034}\n"
     ]
    }
   ],
   "source": [
    "# そのまま\n",
    "as_it_is = cross_validation(data, target, clf, 50)\n",
    "print(as_it_is)"
   ]
  },
  {
   "cell_type": "code",
   "execution_count": 8,
   "metadata": {},
   "outputs": [
    {
     "name": "stdout",
     "output_type": "stream",
     "text": [
      "{'MSE': 0.8835682729286001, 'RMSE': 0.8321495384147597, 'MAE': 0.6342443148228033}\n"
     ]
    }
   ],
   "source": [
    "# 標準化\n",
    "std_data = (data - data.mean()) / data.std()\n",
    "std = cross_validation(std_data, target, clf, 50)\n",
    "print(std)"
   ]
  },
  {
   "cell_type": "code",
   "execution_count": 9,
   "metadata": {},
   "outputs": [
    {
     "name": "stdout",
     "output_type": "stream",
     "text": [
      "{'MSE': 0.8835682729286001, 'RMSE': 0.8321495384147596, 'MAE': 0.6342443148228033}\n"
     ]
    }
   ],
   "source": [
    "# 0~1に正規化\n",
    "normalized_data = data.apply(lambda x: (x - np.min(x)) / (np.max(x) - np.min(x)))\n",
    "normalize = cross_validation(normalized_data, target, clf, 50)\n",
    "print(normalize)"
   ]
  },
  {
   "cell_type": "code",
   "execution_count": 10,
   "metadata": {},
   "outputs": [],
   "source": [
    "# 正則化項のグリッドサーチ\n",
    "def grid_search(data, target, n_split, lasso_or_ridge, range_searching_list):\n",
    "    result_list = []\n",
    "    for alpha in range_searching_list:\n",
    "        if lasso_or_ridge == \"lasso\":\n",
    "            clf = linear_model.Lasso(alpha=alpha, fit_intercept=True, copy_X=True, max_iter=1000, tol=0.0001,random_state=111)\n",
    "        elif lasso_or_ridge == \"ridge\":\n",
    "            clf = linear_model.Ridge(alpha=alpha, fit_intercept=True, copy_X=True, max_iter=1000, tol=0.0001,random_state=111)\n",
    "        result = cross_validation(data, target, clf, n_split)\n",
    "        result_list.append([alpha, result['MAE']])\n",
    "#         print(alpha, result) # 経過が見たかったらコメントをはずす\n",
    "    sorted_result_list = sorted(result_list, key=lambda x: x[1])\n",
    "    print(\"MAE最小のalpha\", sorted_result_list[0][0])\n",
    "    \n",
    "    if lasso_or_ridge == \"lasso\":\n",
    "        clf = linear_model.Lasso(alpha=sorted_result_list[0][0], fit_intercept=True, copy_X=True, max_iter=1000, tol=0.0001,random_state=111)\n",
    "    elif lasso_or_ridge == \"ridge\":\n",
    "        clf = linear_model.Ridge(alpha=sorted_result_list[0][0], fit_intercept=True, copy_X=True, max_iter=1000, tol=0.0001,random_state=111)\n",
    "    \n",
    "    return cross_validation(data, target, clf, n_split)"
   ]
  },
  {
   "cell_type": "code",
   "execution_count": 11,
   "metadata": {},
   "outputs": [
    {
     "name": "stdout",
     "output_type": "stream",
     "text": [
      "MAE最小のalpha 0.08\n",
      "{'MSE': 0.8941644098240156, 'RMSE': 0.818137127951066, 'MAE': 0.6169350297246752}\n"
     ]
    }
   ],
   "source": [
    "# L1正則化\n",
    "range_searching_list = np.arange(0.01, 1.01, 0.01)\n",
    "lasso = grid_search(std_data, target, 50, \"lasso\",range_searching_list)\n",
    "print(lasso)"
   ]
  },
  {
   "cell_type": "code",
   "execution_count": 12,
   "metadata": {},
   "outputs": [
    {
     "name": "stdout",
     "output_type": "stream",
     "text": [
      "MAE最小のalpha 1.9100000000000001\n",
      "{'MSE': 0.8832621892831594, 'RMSE': 0.8317599128334312, 'MAE': 0.633797427286602}\n"
     ]
    }
   ],
   "source": [
    "# L2正則化\n",
    "range_searching_list = np.arange(0.01, 2.01, 0.1)\n",
    "ridge = grid_search(std_data, target, 50, \"ridge\", range_searching_list)\n",
    "print(ridge)"
   ]
  },
  {
   "cell_type": "code",
   "execution_count": 13,
   "metadata": {},
   "outputs": [
    {
     "data": {
      "image/png": "[encoded data removed]",
      "text/plain": [
       "<Figure size 432x288 with 1 Axes>"
      ]
     },
     "metadata": {
      "needs_background": "light"
     },
     "output_type": "display_data"
    }
   ],
   "source": [
    "# 手法ごとに精度を描画\n",
    "mse_list = [as_it_is['MSE'], std['MSE'], normalize['MSE'], lasso['MSE'], ridge['MSE']]\n",
    "rmse_list = [as_it_is['RMSE'], std['RMSE'], normalize['RMSE'], lasso['RMSE'], ridge['RMSE']]\n",
    "mae_list = [as_it_is['MAE'], std['MAE'], normalize['MAE'], lasso['MAE'], ridge['MAE']]\n",
    " \n",
    "left = np.arange(len(mse_list))\n",
    "labels = ['as_it_is', 'std', 'normalize', 'lasso', 'ridge']\n",
    "\n",
    "width = 0.25\n",
    " \n",
    "plt.bar(left, mse_list, width=width, align='center', label=\"MSE\")\n",
    "plt.bar(left+width, rmse_list, width=width, align='center', label=\"RMSE\")\n",
    "plt.bar(left+width+width, mae_list, width=width, align='center', label=\"MAE\")\n",
    "\n",
    "plt.legend(loc='lower left')\n",
    "plt.xticks(left + width, labels)\n",
    "plt.gca().yaxis.set_minor_locator(tick.MultipleLocator(0.05))\n",
    "plt.grid(linestyle='dotted', which='minor')\n",
    "plt.show()"
   ]
  },
  {
   "cell_type": "code",
   "execution_count": 14,
   "metadata": {
    "scrolled": true
   },
   "outputs": [
    {
     "data": {
      "text/html": [
       "<div>\n",
       "<style scoped>\n",
       "    .dataframe tbody tr th:only-of-type {\n",
       "        vertical-align: middle;\n",
       "    }\n",
       "\n",
       "    .dataframe tbody tr th {\n",
       "        vertical-align: top;\n",
       "    }\n",
       "\n",
       "    .dataframe thead th {\n",
       "        text-align: right;\n",
       "    }\n",
       "</style>\n",
       "<table border=\"1\" class=\"dataframe\">\n",
       "  <thead>\n",
       "    <tr style=\"text-align: right;\">\n",
       "      <th></th>\n",
       "      <th>MSE</th>\n",
       "      <th>RMSE</th>\n",
       "      <th>MAE</th>\n",
       "    </tr>\n",
       "  </thead>\n",
       "  <tbody>\n",
       "    <tr>\n",
       "      <th>そのまま</th>\n",
       "      <td>0.8835682729285999</td>\n",
       "      <td>0.8321495384147597</td>\n",
       "      <td>0.6342443148228034</td>\n",
       "    </tr>\n",
       "    <tr>\n",
       "      <th>標準化</th>\n",
       "      <td>0.8835682729286001</td>\n",
       "      <td>0.8321495384147597</td>\n",
       "      <td>0.6342443148228033</td>\n",
       "    </tr>\n",
       "    <tr>\n",
       "      <th>正規化</th>\n",
       "      <td>0.8835682729286001</td>\n",
       "      <td>0.8321495384147596</td>\n",
       "      <td>0.6342443148228033</td>\n",
       "    </tr>\n",
       "    <tr>\n",
       "      <th>L1正則化</th>\n",
       "      <td>0.8941644098240156</td>\n",
       "      <td>0.8181371279510660</td>\n",
       "      <td>0.6169350297246752</td>\n",
       "    </tr>\n",
       "    <tr>\n",
       "      <th>L2正則化</th>\n",
       "      <td>0.8832621892831594</td>\n",
       "      <td>0.8317599128334312</td>\n",
       "      <td>0.6337974272866020</td>\n",
       "    </tr>\n",
       "  </tbody>\n",
       "</table>\n",
       "</div>"
      ],
      "text/plain": [
       "                      MSE                RMSE                 MAE\n",
       "そのまま   0.8835682729285999  0.8321495384147597  0.6342443148228034\n",
       "標準化    0.8835682729286001  0.8321495384147597  0.6342443148228033\n",
       "正規化    0.8835682729286001  0.8321495384147596  0.6342443148228033\n",
       "L1正則化  0.8941644098240156  0.8181371279510660  0.6169350297246752\n",
       "L2正則化  0.8832621892831594  0.8317599128334312  0.6337974272866020"
      ]
     },
     "metadata": {},
     "output_type": "display_data"
    }
   ],
   "source": [
    "# 精度の表\n",
    "result = pd.DataFrame([mse_list, rmse_list, mae_list], index=[\"MSE\", \"RMSE\", \"MAE\"]).T\n",
    "result.index = [\"そのまま\",\"標準化\",\"正規化\", \"L1正則化\", \"L2正則化\"]\n",
    "pd.options.display.precision = 16\n",
    "display(result)"
   ]
  },
  {
   "cell_type": "code",
   "execution_count": 15,
   "metadata": {},
   "outputs": [
    {
     "data": {
      "text/html": [
       "<div>\n",
       "<style scoped>\n",
       "    .dataframe tbody tr th:only-of-type {\n",
       "        vertical-align: middle;\n",
       "    }\n",
       "\n",
       "    .dataframe tbody tr th {\n",
       "        vertical-align: top;\n",
       "    }\n",
       "\n",
       "    .dataframe thead th {\n",
       "        text-align: right;\n",
       "    }\n",
       "</style>\n",
       "<table border=\"1\" class=\"dataframe\">\n",
       "  <thead>\n",
       "    <tr style=\"text-align: right;\">\n",
       "      <th></th>\n",
       "      <th>0</th>\n",
       "      <th>1</th>\n",
       "    </tr>\n",
       "  </thead>\n",
       "  <tbody>\n",
       "    <tr>\n",
       "      <th>MSE</th>\n",
       "      <td>L2正則化</td>\n",
       "      <td>0.8832621892831594</td>\n",
       "    </tr>\n",
       "    <tr>\n",
       "      <th>RMSE</th>\n",
       "      <td>L1正則化</td>\n",
       "      <td>0.8181371279510660</td>\n",
       "    </tr>\n",
       "    <tr>\n",
       "      <th>MAE</th>\n",
       "      <td>L1正則化</td>\n",
       "      <td>0.6169350297246752</td>\n",
       "    </tr>\n",
       "  </tbody>\n",
       "</table>\n",
       "</div>"
      ],
      "text/plain": [
       "          0                   1\n",
       "MSE   L2正則化  0.8832621892831594\n",
       "RMSE  L1正則化  0.8181371279510660\n",
       "MAE   L1正則化  0.6169350297246752"
      ]
     },
     "execution_count": 15,
     "metadata": {},
     "output_type": "execute_result"
    }
   ],
   "source": [
    "# それぞれの指標での最小値\n",
    "pd.concat([result.idxmin(), result.min()], axis=1)"
   ]
  }
 ],
 "metadata": {
  "kernelspec": {
   "display_name": "Python 3",
   "language": "python",
   "name": "python3"
  },
  "language_info": {
   "codemirror_mode": {
    "name": "ipython",
    "version": 3
   },
   "file_extension": ".py",
   "mimetype": "text/x-python",
   "name": "python",
   "nbconvert_exporter": "python",
   "pygments_lexer": "ipython3",
   "version": "3.7.3"
  },
  "toc": {
   "base_numbering": 1,
   "nav_menu": {},
   "number_sections": true,
   "sideBar": true,
   "skip_h1_title": false,
   "title_cell": "Table of Contents",
   "title_sidebar": "Contents",
   "toc_cell": false,
   "toc_position": {},
   "toc_section_display": true,
   "toc_window_display": false
  }
 },
 "nbformat": 4,
 "nbformat_minor": 2
}
