{
 "cells": [
  {
   "cell_type": "code",
   "execution_count": 3,
   "metadata": {},
   "outputs": [],
   "source": [
    "import numpy as np\n",
    "import pandas as pd\n",
    "from matplotlib import pyplot as plt\n",
    "import matplotlib.ticker as tick\n",
    "import itertools\n",
    "from sklearn import linear_model\n",
    "import os\n",
    "import random as rn\n",
    "from keras import backend as K\n",
    "import tensorflow as tf\n",
    "from sklearn import metrics\n",
    "from sklearn.ensemble import RandomForestRegressor\n",
    "from sklearn.model_selection import train_test_split, GridSearchCV\n",
    "import keras\n",
    "from tensorflow.compat.v1.keras import Sequential\n",
    "from tensorflow.compat.v1.keras.layers import Dense, Dropout\n",
    "from tensorflow.compat.v1.keras.optimizers import SGD, RMSprop, Adadelta"
   ]
  },
  {
   "cell_type": "code",
   "execution_count": 2,
   "metadata": {},
   "outputs": [
    {
     "name": "stdout",
     "output_type": "stream",
     "text": [
      "<class 'pandas.core.frame.DataFrame'>\n",
      "RangeIndex: 388 entries, 0 to 387\n",
      "Data columns (total 12 columns):\n",
      "distance         388 non-null float64\n",
      "consume          388 non-null float64\n",
      "speed            388 non-null int64\n",
      "temp_inside      376 non-null float64\n",
      "temp_outside     388 non-null int64\n",
      "specials         93 non-null object\n",
      "gas_type         388 non-null object\n",
      "AC               388 non-null int64\n",
      "rain             388 non-null int64\n",
      "sun              388 non-null int64\n",
      "refill liters    13 non-null float64\n",
      "refill gas       13 non-null object\n",
      "dtypes: float64(4), int64(5), object(3)\n",
      "memory usage: 36.5+ KB\n"
     ]
    }
   ],
   "source": [
    "df = pd.read_csv(\"./data/measurements.csv\", decimal=',')\n",
    "df.info()"
   ]
  },
  {
   "cell_type": "code",
   "execution_count": 4,
   "metadata": {},
   "outputs": [
    {
     "data": {
      "text/plain": [
       "distance           0\n",
       "consume            0\n",
       "speed              0\n",
       "temp_inside       12\n",
       "temp_outside       0\n",
       "specials         295\n",
       "gas_type           0\n",
       "AC                 0\n",
       "rain               0\n",
       "sun                0\n",
       "refill liters    375\n",
       "refill gas       375\n",
       "dtype: int64"
      ]
     },
     "execution_count": 4,
     "metadata": {},
     "output_type": "execute_result"
    }
   ],
   "source": [
    "df.isnull().sum()"
   ]
  },
  {
   "cell_type": "markdown",
   "metadata": {},
   "source": [
    "* gas_typeがE10, SP98の二種類なので0と1にダミー変数化\n",
    "* temp_insideに欠損値があるため平均で埋める\n",
    "* 説明変数は['distance', \"speed\", 'temp_inside' , 'temp_outside', 'gas_type', 'AC', 'rain', 'sun']を使用\n",
    "    - specialsはAC, rain, sunがあるため不採用\n",
    "    - refill liters, refill gassは欠損値が多すぎるため不採用"
   ]
  },
  {
   "cell_type": "code",
   "execution_count": 5,
   "metadata": {},
   "outputs": [],
   "source": [
    "# ダミー変数\n",
    "df['gas_type'] = pd.get_dummies(df['gas_type'])\n",
    "# 欠損値を平均で埋める\n",
    "df['temp_inside'] = df['temp_inside'].fillna(df['temp_inside'].mean())\n",
    "# 目的変数と説明変数の設定\n",
    "target = df['consume']\n",
    "data = df.loc[:, ['distance', \"speed\", 'temp_inside' , 'temp_outside', 'gas_type', 'AC', 'rain', 'sun']]"
   ]
  },
  {
   "cell_type": "code",
   "execution_count": 6,
   "metadata": {},
   "outputs": [],
   "source": [
    "(data_train, data_test, target_train, target_test) = train_test_split(data, target, test_size=0.2, random_state=666)\n",
    "\n",
    "data_train = (data_train - data_train.mean()) / data_train.std()\n",
    "data_test = (data_test - data_test.mean()) / data_test.std()"
   ]
  },
  {
   "cell_type": "markdown",
   "metadata": {},
   "source": [
    "day2での結果（L1正則化を行った線形回帰）"
   ]
  },
  {
   "cell_type": "code",
   "execution_count": 7,
   "metadata": {},
   "outputs": [
    {
     "data": {
      "text/plain": [
       "{'MSE': 1.0357876860024955,\n",
       " 'RMSE': 1.0177365503913551,\n",
       " 'MAE': 0.5690296948528254}"
      ]
     },
     "execution_count": 7,
     "metadata": {},
     "output_type": "execute_result"
    }
   ],
   "source": [
    "clf = linear_model.Lasso(alpha=0.02, fit_intercept=True, copy_X=True, max_iter=1000, tol=0.0001,random_state=111)\n",
    "clf.fit(data_train, target_train)\n",
    "day2_result = clf.predict(data_test)\n",
    "\n",
    "mse = metrics.mean_squared_error(target_test, day2_result)\n",
    "rmse = np.sqrt(metrics.mean_squared_error(target_test, day2_result))\n",
    "mae = metrics.mean_absolute_error(target_test, day2_result)\n",
    "day2 = {\"MSE\":mse, \"RMSE\":rmse, \"MAE\":mae}\n",
    "day2"
   ]
  },
  {
   "cell_type": "markdown",
   "metadata": {},
   "source": [
    "ランダムフォレスト　ハイパーパラメータはGridSearchCVでグリッドサーチを行う"
   ]
  },
  {
   "cell_type": "code",
   "execution_count": 8,
   "metadata": {},
   "outputs": [
    {
     "name": "stderr",
     "output_type": "stream",
     "text": [
      "C:\\Users\\N398\\Anaconda3\\lib\\site-packages\\sklearn\\model_selection\\_search.py:813: DeprecationWarning: The default of the `iid` parameter will change from True to False in version 0.22 and will be removed in 0.24. This will change numeric results when test-set sizes are unequal.\n",
      "  DeprecationWarning)\n"
     ]
    },
    {
     "data": {
      "text/plain": [
       "GridSearchCV(cv=3, error_score='raise-deprecating',\n",
       "             estimator=RandomForestRegressor(bootstrap=True, criterion='mse',\n",
       "                                             max_depth=None,\n",
       "                                             max_features='auto',\n",
       "                                             max_leaf_nodes=None,\n",
       "                                             min_impurity_decrease=0.0,\n",
       "                                             min_impurity_split=None,\n",
       "                                             min_samples_leaf=1,\n",
       "                                             min_samples_split=2,\n",
       "                                             min_weight_fraction_leaf=0.0,\n",
       "                                             n_estimators='warn', n_jobs=None,\n",
       "                                             oob_score=False, random_state=None,\n",
       "                                             verbose=0, warm_start=False),\n",
       "             iid='warn', n_jobs=-1,\n",
       "             param_grid={'max_depth': [2, 3, 5, 10, 100, 1000],\n",
       "                         'min_samples_leaf': [2, 3, 5, 10, 100, 1000],\n",
       "                         'min_samples_split': [2, 3, 5, 10, 100, 1000],\n",
       "                         'n_estimators': [2, 3, 5, 10, 100, 1000],\n",
       "                         'random_state': [666]},\n",
       "             pre_dispatch='2*n_jobs', refit=True, return_train_score=False,\n",
       "             scoring=None, verbose=False)"
      ]
     },
     "execution_count": 8,
     "metadata": {},
     "output_type": "execute_result"
    }
   ],
   "source": [
    "search_params = {\n",
    "    'n_estimators'      : [2, 3, 5, 10, 100, 1000],\n",
    "    'min_samples_leaf'  : [2, 3, 5, 10, 100, 1000],\n",
    "    'min_samples_split' : [2, 3, 5, 10, 100, 1000],\n",
    "    'max_depth'         : [2, 3, 5, 10, 100, 1000],\n",
    "    'random_state'      : [666]\n",
    "}\n",
    " \n",
    "forest_gs = GridSearchCV(\n",
    "    RandomForestRegressor(),\n",
    "    search_params,\n",
    "    cv = 3,\n",
    "    n_jobs = -1,\n",
    "    verbose=False\n",
    ")\n",
    " \n",
    "forest_gs.fit(data_train, target_train)"
   ]
  },
  {
   "cell_type": "code",
   "execution_count": 9,
   "metadata": {},
   "outputs": [
    {
     "name": "stdout",
     "output_type": "stream",
     "text": [
      "{'MSE': 0.7861107168082858, 'RMSE': 0.8866288495240192, 'MAE': 0.5475662015830539}\n"
     ]
    }
   ],
   "source": [
    "forest_gs_result = forest_gs.best_estimator_.predict(data_test)\n",
    "# 二乗平均誤差\n",
    "mse = metrics.mean_squared_error(target_test, forest_gs_result)\n",
    "# 二乗平均平方根誤差 (RMSE)\n",
    "rmse = np.sqrt(metrics.mean_squared_error(target_test, forest_gs_result))\n",
    "# 平均絶対誤差 (MAE)\n",
    "mae = metrics.mean_absolute_error(target_test, forest_gs_result)\n",
    "forest_gs_result_list = ({\"MSE\":mse, \"RMSE\":rmse, \"MAE\":mae})\n",
    "print(forest_gs_result_list)"
   ]
  },
  {
   "cell_type": "markdown",
   "metadata": {},
   "source": [
    "ニューラルネットワークを一旦適当な値でやってみる"
   ]
  },
  {
   "cell_type": "code",
   "execution_count": 13,
   "metadata": {},
   "outputs": [],
   "source": [
    "# ニューラルネットワーク\n",
    "model = Sequential()\n",
    "model.add(Dense(6, activation='relu',kernel_initializer=tf.keras.initializers.RandomNormal(seed=666), input_dim=len(data_train.keys())))\n",
    "model.add(Dense(1))\n",
    "\n",
    "optimizer = Adadelta()\n",
    "\n",
    "model.compile(loss='mae',\n",
    "            optimizer=optimizer,\n",
    "            metrics=['mse', 'mae'])"
   ]
  },
  {
   "cell_type": "code",
   "execution_count": 14,
   "metadata": {},
   "outputs": [],
   "source": [
    "fit = model.fit(data_train, target_train,\n",
    "          epochs=1000,\n",
    "          batch_size=16,validation_data=(data_test, target_test),\n",
    "          verbose=0)"
   ]
  },
  {
   "cell_type": "code",
   "execution_count": 15,
   "metadata": {},
   "outputs": [
    {
     "data": {
      "image/png": "[encoded data removed]",
      "text/plain": [
       "<Figure size 432x288 with 1 Axes>"
      ]
     },
     "metadata": {
      "needs_background": "light"
     },
     "output_type": "display_data"
    },
    {
     "data": {
      "image/png": "[encoded data removed]",
      "text/plain": [
       "<Figure size 432x288 with 1 Axes>"
      ]
     },
     "metadata": {
      "needs_background": "light"
     },
     "output_type": "display_data"
    }
   ],
   "source": [
    "df_nnresult = pd.DataFrame(fit.history)\n",
    "\n",
    "df_nnresult[['mean_squared_error', 'val_mean_squared_error']].plot()\n",
    "plt.ylabel(\"mse\")\n",
    "plt.xlabel(\"epoch\")\n",
    "plt.ylim(0, 2)\n",
    "plt.show()\n",
    "\n",
    "df_nnresult[['mean_absolute_error', 'val_mean_absolute_error']].plot()\n",
    "plt.ylabel(\"mae\")\n",
    "plt.xlabel(\"epoch\")\n",
    "plt.ylim(0, 2)\n",
    "plt.show()\n"
   ]
  },
  {
   "cell_type": "markdown",
   "metadata": {},
   "source": [
    "やや過学習なため、中間層にL2正則化とDropoutを入れることを検討\n",
    "\n",
    "ハイパーパラメータはグリッドサーチを行う"
   ]
  },
  {
   "cell_type": "code",
   "execution_count": 16,
   "metadata": {},
   "outputs": [],
   "source": [
    "# グリッドサーチ\n",
    "def grid_search(data, target, param_list):\n",
    "    (data_train, data_test, target_train, target_test) = train_test_split(data, target, test_size=0.3, random_state=666)\n",
    "    data_train = (data_train - data_train.mean()) / data_train.std()\n",
    "    data_test = (data_test - data_test.mean()) / data_test.std()\n",
    "    \n",
    "    best_score = 9999\n",
    "    best_param = []\n",
    "    \n",
    "    # 乱数を固定\n",
    "    os.environ['PYTHONHASHSEED'] = '0'\n",
    "    np.random.seed(666)\n",
    "    rn.seed(666)\n",
    "    session_conf = tf.ConfigProto(\n",
    "        intra_op_parallelism_threads=1,\n",
    "        inter_op_parallelism_threads=1\n",
    "    )\n",
    "    tf.set_random_seed(666)\n",
    "    sess = tf.Session(graph=tf.get_default_graph(), config=session_conf)\n",
    "    K.set_session(sess)\n",
    "    \n",
    "    for i,param in enumerate(param_list):\n",
    "        model = Sequential()\n",
    "        model.add(Dense(8, activation='relu',  kernel_initializer=tf.keras.initializers.he_normal(seed=666), kernel_regularizer=keras.regularizers.l2(param[0]), input_dim=len(data_train.keys())))\n",
    "        model.add(Dropout(param[1], seed=666))\n",
    "        model.add(Dense(1, kernel_initializer=tf.keras.initializers.he_normal(seed=333)))\n",
    "\n",
    "        optimizer = Adadelta()\n",
    "\n",
    "        model.compile(loss='mse',\n",
    "                    optimizer=optimizer,\n",
    "                    metrics=['mse', 'mae'])\n",
    "        fit = model.fit(data_train, target_train,\n",
    "              epochs=500,\n",
    "              batch_size=32,validation_data=(data_test, target_test),\n",
    "              verbose=0)\n",
    "        loss = model.evaluate(data_test, target_test, verbose=0)[0]\n",
    "        if loss < best_score:\n",
    "            best_score = loss\n",
    "            best_param = param\n",
    "        print(i+1, \"/\", len(param_list), \"loss\", loss, \"L2\", param[0], \"dropout\", param[1], \"best_loss\", best_score, \"best_L2\", best_param[0], \"best_dropout\", best_param[1])\n",
    "    return best_param"
   ]
  },
  {
   "cell_type": "code",
   "execution_count": 30,
   "metadata": {
    "scrolled": true
   },
   "outputs": [],
   "source": [
    "# 処理時間の都合上一度実行した後コメントアウト　出力結果: L2 0 dropout 0.2\n",
    "#\n",
    "# l2 = [0, 0.1, 0.01, 0.001]\n",
    "# drop_out = [0, 0.1, 0.2, 0.3, 0.4, 0.5]\n",
    "#\n",
    "# param_list = list(itertools.product(l2, drop_out))\n",
    "# best_param = grid_search(data, target, param_list)\n",
    "#\n",
    "# print(\"L2\", best_param[0], \"dropout\", best_param[1])\n",
    "\n",
    "\n",
    "best_param = [0, 0.2]"
   ]
  },
  {
   "cell_type": "markdown",
   "metadata": {},
   "source": [
    "正則化はいらないっぽい"
   ]
  },
  {
   "cell_type": "code",
   "execution_count": 62,
   "metadata": {},
   "outputs": [],
   "source": [
    "# 乱数を固定\n",
    "os.environ['PYTHONHASHSEED'] = '0'\n",
    "np.random.seed(666)\n",
    "rn.seed(666)\n",
    "session_conf = tf.ConfigProto(\n",
    "    intra_op_parallelism_threads=1,\n",
    "    inter_op_parallelism_threads=1\n",
    ")\n",
    "tf.set_random_seed(666)\n",
    "sess = tf.Session(graph=tf.get_default_graph(), config=session_conf)\n",
    "K.set_session(sess)\n",
    "\n",
    "model2 = Sequential()\n",
    "model2.add(Dense(8, activation='relu', \n",
    "                 kernel_initializer=tf.keras.initializers.he_normal(seed=666), \n",
    "                 kernel_regularizer=keras.regularizers.l2(best_param[0]), \n",
    "                 input_dim=len(data_train.keys())))\n",
    "model2.add(Dropout(best_param[1], seed=666))\n",
    "model2.add(Dense(1))\n",
    "\n",
    "optimizer = Adadelta()\n",
    "\n",
    "model2.compile(loss='mse',\n",
    "            optimizer=optimizer,\n",
    "            metrics=['mse', 'mae'])"
   ]
  },
  {
   "cell_type": "code",
   "execution_count": 63,
   "metadata": {},
   "outputs": [],
   "source": [
    "fit2 = model2.fit(data_train, target_train,\n",
    "          epochs=1000,\n",
    "          batch_size=8,\n",
    "          validation_data=(data_test, target_test),\n",
    "          verbose=0)"
   ]
  },
  {
   "cell_type": "code",
   "execution_count": 64,
   "metadata": {},
   "outputs": [
    {
     "data": {
      "image/png": "[encoded data removed]",
      "text/plain": [
       "<Figure size 432x288 with 1 Axes>"
      ]
     },
     "metadata": {
      "needs_background": "light"
     },
     "output_type": "display_data"
    }
   ],
   "source": [
    "df_nnresult2 = pd.DataFrame(fit2.history)\n",
    "\n",
    "df_nnresult2[['loss', 'val_loss']].plot()\n",
    "plt.ylabel(\"mse\")\n",
    "plt.xlabel(\"epoch\")\n",
    "plt.ylim(0, 2)\n",
    "plt.show()"
   ]
  },
  {
   "cell_type": "code",
   "execution_count": 65,
   "metadata": {},
   "outputs": [
    {
     "name": "stdout",
     "output_type": "stream",
     "text": [
      "{'MSE': 0.76773226, 'RMSE': 0.8762033, 'MAE': 0.5285315}\n"
     ]
    }
   ],
   "source": [
    "mse = model2.evaluate(data_test, target_test, verbose=0)[1]\n",
    "rmse = np.sqrt(mse)\n",
    "mae = model2.evaluate(data_test, target_test, verbose=0)[2]\n",
    "neural_net_result_list = ({\"MSE\":mse, \"RMSE\":rmse, \"MAE\":mae})\n",
    "print(neural_net_result_list)"
   ]
  },
  {
   "cell_type": "markdown",
   "metadata": {},
   "source": [
    "手法ごとに精度を比較"
   ]
  },
  {
   "cell_type": "code",
   "execution_count": 66,
   "metadata": {},
   "outputs": [
    {
     "data": {
      "image/png": "[encoded data removed]",
      "text/plain": [
       "<Figure size 432x288 with 1 Axes>"
      ]
     },
     "metadata": {
      "needs_background": "light"
     },
     "output_type": "display_data"
    }
   ],
   "source": [
    "mse_list = [day2['MSE'],forest_gs_result_list['MSE'], neural_net_result_list['MSE']]\n",
    "rmse_list = [day2['RMSE'], forest_gs_result_list['RMSE'], neural_net_result_list['RMSE']]\n",
    "mae_list = [day2['MAE'], forest_gs_result_list['MAE'], neural_net_result_list['MAE']]\n",
    " \n",
    "left = np.arange(len(mse_list))\n",
    "labels = ['day2', 'random_forest', 'neural_net']\n",
    "\n",
    "width = 0.25\n",
    " \n",
    "plt.bar(left, mse_list, width=width, align='center', label=\"MSE\")\n",
    "plt.bar(left+width, rmse_list, width=width, align='center', label=\"RMSE\")\n",
    "plt.bar(left+width*2, mae_list, width=width, align='center', label=\"MAE\")\n",
    "\n",
    "plt.legend(loc='lower left')\n",
    "plt.xticks(left + width, labels)\n",
    "plt.gca().yaxis.set_minor_locator(tick.MultipleLocator(0.05))\n",
    "plt.grid(linestyle='dotted', which='minor')\n",
    "plt.show()"
   ]
  },
  {
   "cell_type": "code",
   "execution_count": 67,
   "metadata": {},
   "outputs": [
    {
     "data": {
      "text/html": [
       "<div>\n",
       "<style scoped>\n",
       "    .dataframe tbody tr th:only-of-type {\n",
       "        vertical-align: middle;\n",
       "    }\n",
       "\n",
       "    .dataframe tbody tr th {\n",
       "        vertical-align: top;\n",
       "    }\n",
       "\n",
       "    .dataframe thead th {\n",
       "        text-align: right;\n",
       "    }\n",
       "</style>\n",
       "<table border=\"1\" class=\"dataframe\">\n",
       "  <thead>\n",
       "    <tr style=\"text-align: right;\">\n",
       "      <th></th>\n",
       "      <th>MSE</th>\n",
       "      <th>RMSE</th>\n",
       "      <th>MAE</th>\n",
       "    </tr>\n",
       "  </thead>\n",
       "  <tbody>\n",
       "    <tr>\n",
       "      <th>DAY2(線形回帰)</th>\n",
       "      <td>1.035788</td>\n",
       "      <td>1.017737</td>\n",
       "      <td>0.569030</td>\n",
       "    </tr>\n",
       "    <tr>\n",
       "      <th>ランダムフォレスト</th>\n",
       "      <td>0.786111</td>\n",
       "      <td>0.886629</td>\n",
       "      <td>0.547566</td>\n",
       "    </tr>\n",
       "    <tr>\n",
       "      <th>ニューラルネットワーク</th>\n",
       "      <td>0.767732</td>\n",
       "      <td>0.876203</td>\n",
       "      <td>0.528531</td>\n",
       "    </tr>\n",
       "  </tbody>\n",
       "</table>\n",
       "</div>"
      ],
      "text/plain": [
       "                  MSE      RMSE       MAE\n",
       "DAY2(線形回帰)   1.035788  1.017737  0.569030\n",
       "ランダムフォレスト    0.786111  0.886629  0.547566\n",
       "ニューラルネットワーク  0.767732  0.876203  0.528531"
      ]
     },
     "metadata": {},
     "output_type": "display_data"
    }
   ],
   "source": [
    "result = pd.DataFrame([mse_list, rmse_list, mae_list], index=[\"MSE\", \"RMSE\", \"MAE\"]).T\n",
    "result.index = [\"DAY2(線形回帰)\",\"ランダムフォレスト\",\"ニューラルネットワーク\"]\n",
    "display(result)"
   ]
  },
  {
   "cell_type": "markdown",
   "metadata": {},
   "source": [
    "各指標ともに DAY2>ランダムフォレスト>ニューラルネットワーク の順に精度がよい"
   ]
  },
  {
   "cell_type": "code",
   "execution_count": 68,
   "metadata": {},
   "outputs": [
    {
     "data": {
      "image/png": "[encoded data removed]",
      "text/plain": [
       "<Figure size 432x288 with 1 Axes>"
      ]
     },
     "metadata": {
      "needs_background": "light"
     },
     "output_type": "display_data"
    },
    {
     "data": {
      "image/png": "[encoded data removed]",
      "text/plain": [
       "<Figure size 432x288 with 1 Axes>"
      ]
     },
     "metadata": {
      "needs_background": "light"
     },
     "output_type": "display_data"
    },
    {
     "data": {
      "image/png": "[encoded data removed]",
      "text/plain": [
       "<Figure size 432x288 with 1 Axes>"
      ]
     },
     "metadata": {
      "needs_background": "light"
     },
     "output_type": "display_data"
    }
   ],
   "source": [
    "plt.scatter(target_test, day2_result, label='day2')\n",
    "plt.xlim(target.min(), target.max())\n",
    "plt.ylim(target.min(), target.max())\n",
    "plt.xlabel(\"target\")\n",
    "plt.ylabel(\"predict\")\n",
    "plt.legend()\n",
    "plt.show()\n",
    "\n",
    "plt.scatter(target_test, forest_gs_result, label='random_forest')\n",
    "plt.xlim(target.min(), target.max())\n",
    "plt.ylim(target.min(), target.max())\n",
    "plt.xlabel(\"target\")\n",
    "plt.ylabel(\"predict\")\n",
    "plt.legend()\n",
    "plt.show()\n",
    "\n",
    "plt.scatter(target_test, model2.predict(data_test), label=('neural_net'))\n",
    "plt.xlim(target.min(), target.max())\n",
    "plt.ylim(target.min(), target.max())\n",
    "plt.xlabel(\"target\")\n",
    "plt.ylabel(\"predict\")\n",
    "plt.legend()\n",
    "plt.show()"
   ]
  },
  {
   "cell_type": "markdown",
   "metadata": {},
   "source": [
    "精度のいいものほどまとまっていて45度に近い"
   ]
  },
  {
   "cell_type": "code",
   "execution_count": null,
   "metadata": {},
   "outputs": [],
   "source": []
  }
 ],
 "metadata": {
  "kernelspec": {
   "display_name": "Python 3",
   "language": "python",
   "name": "python3"
  },
  "language_info": {
   "codemirror_mode": {
    "name": "ipython",
    "version": 3
   },
   "file_extension": ".py",
   "mimetype": "text/x-python",
   "name": "python",
   "nbconvert_exporter": "python",
   "pygments_lexer": "ipython3",
   "version": "3.7.3"
  },
  "toc": {
   "base_numbering": 1,
   "nav_menu": {},
   "number_sections": true,
   "sideBar": true,
   "skip_h1_title": false,
   "title_cell": "Table of Contents",
   "title_sidebar": "Contents",
   "toc_cell": false,
   "toc_position": {},
   "toc_section_display": true,
   "toc_window_display": false
  }
 },
 "nbformat": 4,
 "nbformat_minor": 2
}
